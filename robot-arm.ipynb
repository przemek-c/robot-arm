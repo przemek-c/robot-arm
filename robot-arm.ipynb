{
  "cells": [
    {
      "cell_type": "markdown",
      "metadata": {
        "id": "view-in-github",
        "colab_type": "text"
      },
      "source": [
        "<a href=\"https://colab.research.google.com/github/przemek-c/robot-arm/blob/main/robot-arm.ipynb\" target=\"_parent\"><img src=\"https://colab.research.google.com/assets/colab-badge.svg\" alt=\"Open In Colab\"/></a>"
      ]
    },
    {
      "cell_type": "markdown",
      "metadata": {
        "id": "qqIKeaZupdG-"
      },
      "source": [
        "1. Draw objects in CAD, get vertices\n",
        "1. Stop worring about tools - it's best you have\n",
        "1. Define point as matrix T\n",
        "2. Calculate IK\n",
        "1. Check how it looks like\n",
        "1. Interpolate more points\n",
        "1. Other part of plan is to make env for work with"
      ]
    },
    {
      "cell_type": "code",
      "execution_count": null,
      "metadata": {
        "id": "vw2fgvkppdHA",
        "outputId": "f3149705-ec96-4c99-fa15-fe4ebde03478"
      },
      "outputs": [
        {
          "name": "stdout",
          "output_type": "stream",
          "text": [
            "Hello\n"
          ]
        }
      ],
      "source": [
        "print(\"Hello\")"
      ]
    },
    {
      "cell_type": "markdown",
      "metadata": {
        "id": "YvX1fdzzpdHB"
      },
      "source": [
        "### Imports\n",
        "But before run, first manually choose the GPU T4 workspace"
      ]
    },
    {
      "cell_type": "code",
      "execution_count": 1,
      "metadata": {
        "id": "EttcuCa8pdHC"
      },
      "outputs": [],
      "source": [
        "!pip install mujoco\n",
        "\n",
        "# Set up GPU rendering.\n",
        "from google.colab import files\n",
        "import distutils.util\n",
        "import os\n",
        "import subprocess\n",
        "if subprocess.run('nvidia-smi').returncode:\n",
        "  raise RuntimeError(\n",
        "      'Cannot communicate with GPU. '\n",
        "      'Make sure you are using a GPU Colab runtime. '\n",
        "      'Go to the Runtime menu and select Choose runtime type.')\n",
        "\n",
        "# Add an ICD config so that glvnd can pick up the Nvidia EGL driver.\n",
        "# This is usually installed as part of an Nvidia driver package, but the Colab\n",
        "# kernel doesn't install its driver via APT, and as a result the ICD is missing.\n",
        "# (https://github.com/NVIDIA/libglvnd/blob/master/src/EGL/icd_enumeration.md)\n",
        "NVIDIA_ICD_CONFIG_PATH = '/usr/share/glvnd/egl_vendor.d/10_nvidia.json'\n",
        "if not os.path.exists(NVIDIA_ICD_CONFIG_PATH):\n",
        "  with open(NVIDIA_ICD_CONFIG_PATH, 'w') as f:\n",
        "    f.write(\"\"\"{\n",
        "    \"file_format_version\" : \"1.0.0\",\n",
        "    \"ICD\" : {\n",
        "        \"library_path\" : \"libEGL_nvidia.so.0\"\n",
        "    }\n",
        "}\n",
        "\"\"\")\n",
        "\n",
        "# Configure MuJoCo to use the EGL rendering backend (requires GPU)\n",
        "print('Setting environment variable to use GPU rendering:')\n",
        "%env MUJOCO_GL=egl\n",
        "\n",
        "# Check if installation was succesful.\n",
        "try:\n",
        "  print('Checking that the installation succeeded:')\n",
        "  import mujoco\n",
        "  mujoco.MjModel.from_xml_string('<mujoco/>')\n",
        "except Exception as e:\n",
        "  raise e from RuntimeError(\n",
        "      'Something went wrong during installation. Check the shell output above '\n",
        "      'for more information.\\n'\n",
        "      'If using a hosted Colab runtime, make sure you enable GPU acceleration '\n",
        "      'by going to the Runtime menu and selecting \"Choose runtime type\".')\n",
        "\n",
        "print('Installation successful.')\n",
        "\n",
        "# Other imports and helper functions\n",
        "import time\n",
        "import itertools\n",
        "import numpy as np\n",
        "\n",
        "# Graphics and plotting.\n",
        "print('Installing mediapy:')\n",
        "!command -v ffmpeg >/dev/null || (apt update && apt install -y ffmpeg)\n",
        "!pip install -q mediapy\n",
        "import mediapy as media\n",
        "import matplotlib.pyplot as plt\n",
        "\n",
        "# More legible printing from numpy.\n",
        "np.set_printoptions(precision=3, suppress=True, linewidth=100)\n",
        "\n",
        "from IPython.display import clear_output\n",
        "clear_output()\n"
      ]
    },
    {
      "cell_type": "markdown",
      "metadata": {
        "id": "sTF1DobnpdHD"
      },
      "source": [
        "### Define the robot"
      ]
    },
    {
      "cell_type": "markdown",
      "source": [
        "Imports for RTB"
      ],
      "metadata": {
        "id": "Ti174aM4uOUF"
      }
    },
    {
      "cell_type": "code",
      "source": [
        "import google.colab\n",
        "%pip install roboticstoolbox-python>=1.0.2\n",
        "# %pip install colored==1.4.4\n",
        "\n",
        "import numpy as np\n",
        "import roboticstoolbox as rtb\n",
        "from spatialmath import *\n",
        "from math import pi\n",
        "import matplotlib.pyplot as plt\n",
        "from matplotlib import cm\n",
        "np.set_printoptions(linewidth=100, formatter={'float': lambda x: f\"{x:8.4g}\" if abs(x) > 1e-10 else f\"{0:8.4g}\"})\n",
        "\n",
        "%matplotlib notebook"
      ],
      "metadata": {
        "id": "L_pS5DByuTPT"
      },
      "execution_count": null,
      "outputs": []
    },
    {
      "cell_type": "code",
      "execution_count": null,
      "metadata": {
        "id": "KZl-eUpZpdHE"
      },
      "outputs": [],
      "source": [
        "L1 = rtb.DHLink(d=0.0,   alpha=   0.0,   theta=0.0, a=0.0,)\n",
        "L2 = rtb.DHLink(d=0.0,   alpha= -pi/2,   theta=0.0, a=0.0)\n",
        "L3 = rtb.DHLink(d=0.42,  alpha=  pi/2,   theta=0.0, a=0.0)\n",
        "L4= rtb.DHLink( d=0.0,   alpha=  pi/2,   theta=0.0, a=0.0)\n",
        "L5= rtb.DHLink( d=0.4,   alpha= -pi/2,   theta=0.0, a=0.0)\n",
        "L6= rtb.DHLink( d=0.0,   alpha= -pi/2,   theta=0.0, a=0.0)\n",
        "L7= rtb.DHLink( d=0.0,   alpha=  pi/2,   theta=0.0, a=0.0)\n",
        "robot = rtb.DHRobot([L1, L2, L3, L4, L5, L6, L7])"
      ]
    },
    {
      "cell_type": "code",
      "execution_count": null,
      "metadata": {
        "id": "4JvPt-y_pdHE",
        "outputId": "28218115-e45c-41fe-bb2f-655b505def2e",
        "colab": {
          "base_uri": "https://localhost:8080/"
        }
      },
      "outputs": [
        {
          "output_type": "stream",
          "name": "stdout",
          "text": [
            "   0.5444    0.8245   -0.154     0.0001177  \n",
            "  -0.7355    0.5575    0.3849    0.2663    \n",
            "   0.4032   -0.09632   0.91     -0.007111  \n",
            "   0         0         0         1         \n",
            "\n"
          ]
        },
        {
          "output_type": "execute_result",
          "data": {
            "text/plain": [
              "IKSolution(q=array([    -1.8,   0.6304,   -0.029,    -0.66,     0.12,     0.86,    -0.31]), success=True, iterations=9, searches=1, residual=7.577634390789281e-07, reason='Success')"
            ]
          },
          "metadata": {},
          "execution_count": 7
        }
      ],
      "source": [
        "QPOS = [\n",
        "  -1.7     ,\n",
        "   0.53    ,\n",
        "  -0.029   ,\n",
        "  -0.66    ,\n",
        "   0.12    ,\n",
        "   0.86    ,\n",
        "  -0.31\n",
        "]\n",
        "T = robot.fkine(QPOS)\n",
        "print(T)\n",
        "sol = robot.ikine_LM(T)\n",
        "sol"
      ]
    },
    {
      "cell_type": "markdown",
      "source": [
        "Implement my robot"
      ],
      "metadata": {
        "id": "flp8Lygct9FE"
      }
    },
    {
      "cell_type": "code",
      "execution_count": 2,
      "metadata": {
        "id": "pE5nMEMtpdHE",
        "outputId": "08b50180-341e-4090-e2f2-a800e49b9505",
        "colab": {
          "base_uri": "https://localhost:8080/"
        }
      },
      "outputs": [
        {
          "output_type": "stream",
          "name": "stdout",
          "text": [
            "Mounted at /content/drive\n"
          ]
        }
      ],
      "source": [
        "from google.colab import drive\n",
        "drive.mount('/content/drive')"
      ]
    },
    {
      "cell_type": "code",
      "source": [
        "'''\n",
        "xml = \"\"\"\n",
        "<mujoco>\n",
        "  <worldbody>\n",
        "    <light name=\"top\" pos=\"0 0 1\"/>\n",
        "    <geom name=\"red_box\" type=\"box\" size=\".2 .2 .2\" rgba=\"1 0 0 1\"/>\n",
        "    <geom name=\"green_sphere\" pos=\".2 .2 .2\" size=\".1\" rgba=\"0 1 0 1\"/>\n",
        "  </worldbody>\n",
        "</mujoco>\n",
        "\"\"\"\n",
        "'''\n",
        "# model = mujoco.MjModel.from_xml_string(xml)\n",
        "# in content dir make maually kuka dir paste whats need to be there, then add dir assets and paste files there separately\n",
        "# model = mujoco.MjModel.from_xml_path('/content/kuka/iiwa14.xml')\n",
        "# or get it from the drive\n",
        "model = mujoco.MjModel.from_xml_path('/content/drive/MyDrive/Colab Notebooks/kuka/iiwa14.xml')\n",
        "data = mujoco.MjData(model)\n",
        "\n",
        "\n",
        "renderer = mujoco.Renderer(model)\n",
        "mujoco.mj_forward(model, data)\n",
        "renderer.update_scene(data)\n",
        "\n",
        "media.show_image(renderer.render())\n",
        "\n",
        "# gemini forward kinematics\n",
        "# Set joint positions (adjust indices as needed)\n",
        "data.qpos[0] = 0.5\n",
        "data.qpos[1] = 1.0\n",
        "\n",
        "# Compute forward kinematics\n",
        "mujoco.mj_forward(model, data)\n",
        "\n",
        "# Access the position of a specific site (adjust index as needed)\n",
        "#site_pos = data.xpos[model.site_adr[0]]\n",
        "\n",
        "# Access the orientation of a specific body (adjust index as needed)\n",
        "#body_rot = data.xmat[model.body_adr[0]]\n",
        "\n",
        "renderer = mujoco.Renderer(model)\n",
        "mujoco.mj_forward(model, data)\n",
        "renderer.update_scene(data)\n",
        "\n",
        "media.show_image(renderer.render())\n",
        "\n",
        "# and on second picture robot is moved\n",
        "# so now let's make a video"
      ],
      "metadata": {
        "id": "NBqCVneAuwL6",
        "outputId": "9a92d014-a336-4794-fa1d-f96f590a0133",
        "colab": {
          "base_uri": "https://localhost:8080/",
          "height": 509
        }
      },
      "execution_count": 3,
      "outputs": [
        {
          "output_type": "display_data",
          "data": {
            "text/plain": [
              "<IPython.core.display.HTML object>"
            ],
            "text/html": [
              "<table class=\"show_images\" style=\"border-spacing:0px;\"><tr><td style=\"padding:1px;\"><img width=\"320\" height=\"240\" style=\"image-rendering:auto; object-fit:cover;\" src=\"data:image/png;base64,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\"/></td></tr></table>"
            ]
          },
          "metadata": {}
        },
        {
          "output_type": "display_data",
          "data": {
            "text/plain": [
              "<IPython.core.display.HTML object>"
            ],
            "text/html": [
              "<table class=\"show_images\" style=\"border-spacing:0px;\"><tr><td style=\"padding:1px;\"><img width=\"320\" height=\"240\" style=\"image-rendering:auto; object-fit:cover;\" src=\"data:image/png;base64,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\"/></td></tr></table>"
            ]
          },
          "metadata": {}
        }
      ]
    }
  ],
  "metadata": {
    "kernelspec": {
      "display_name": "Python 3",
      "name": "python3"
    },
    "language_info": {
      "codemirror_mode": {
        "name": "ipython",
        "version": 3
      },
      "file_extension": ".py",
      "mimetype": "text/x-python",
      "name": "python",
      "nbconvert_exporter": "python",
      "pygments_lexer": "ipython3",
      "version": "3.11.4"
    },
    "colab": {
      "provenance": [],
      "gpuType": "T4",
      "include_colab_link": true
    },
    "accelerator": "GPU"
  },
  "nbformat": 4,
  "nbformat_minor": 0
}