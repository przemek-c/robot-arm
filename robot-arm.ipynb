{
  "cells": [
    {
      "cell_type": "markdown",
      "metadata": {
        "colab_type": "text",
        "id": "view-in-github"
      },
      "source": [
        "<a href=\"https://colab.research.google.com/github/przemek-c/robot-arm/blob/main/robot-arm.ipynb\" target=\"_parent\"><img src=\"https://colab.research.google.com/assets/colab-badge.svg\" alt=\"Open In Colab\"/></a>"
      ]
    },
    {
      "cell_type": "markdown",
      "metadata": {
        "id": "qqIKeaZupdG-"
      },
      "source": [
        "1. Draw objects in CAD, get vertices\n",
        "1. Stop worring about tools - it's best you have\n",
        "1. Define point as matrix T\n",
        "2. Calculate IK\n",
        "1. Check how it looks like\n",
        "1. Interpolate more points\n",
        "1. Other part of plan is to make env for work with"
      ]
    },
    {
      "cell_type": "code",
      "execution_count": null,
      "metadata": {
        "id": "vw2fgvkppdHA",
        "outputId": "f3149705-ec96-4c99-fa15-fe4ebde03478"
      },
      "outputs": [],
      "source": [
        "print(\"Hello\")"
      ]
    },
    {
      "cell_type": "markdown",
      "metadata": {
        "id": "YvX1fdzzpdHB"
      },
      "source": [
        "### Imports for Colab\n",
        "But before run, first manually choose the GPU T4 workspace"
      ]
    },
    {
      "cell_type": "code",
      "execution_count": 1,
      "metadata": {
        "id": "EttcuCa8pdHC"
      },
      "outputs": [],
      "source": [
        "!pip install mujoco\n",
        "\n",
        "# Set up GPU rendering.\n",
        "from google.colab import files\n",
        "import distutils.util\n",
        "import os\n",
        "import subprocess\n",
        "if subprocess.run('nvidia-smi').returncode:\n",
        "  raise RuntimeError(\n",
        "      'Cannot communicate with GPU. '\n",
        "      'Make sure you are using a GPU Colab runtime. '\n",
        "      'Go to the Runtime menu and select Choose runtime type.')\n",
        "\n",
        "# Add an ICD config so that glvnd can pick up the Nvidia EGL driver.\n",
        "# This is usually installed as part of an Nvidia driver package, but the Colab\n",
        "# kernel doesn't install its driver via APT, and as a result the ICD is missing.\n",
        "# (https://github.com/NVIDIA/libglvnd/blob/master/src/EGL/icd_enumeration.md)\n",
        "NVIDIA_ICD_CONFIG_PATH = '/usr/share/glvnd/egl_vendor.d/10_nvidia.json'\n",
        "if not os.path.exists(NVIDIA_ICD_CONFIG_PATH):\n",
        "  with open(NVIDIA_ICD_CONFIG_PATH, 'w') as f:\n",
        "    f.write(\"\"\"{\n",
        "    \"file_format_version\" : \"1.0.0\",\n",
        "    \"ICD\" : {\n",
        "        \"library_path\" : \"libEGL_nvidia.so.0\"\n",
        "    }\n",
        "}\n",
        "\"\"\")\n",
        "\n",
        "# Configure MuJoCo to use the EGL rendering backend (requires GPU)\n",
        "print('Setting environment variable to use GPU rendering:')\n",
        "%env MUJOCO_GL=egl\n",
        "\n",
        "# Check if installation was succesful.\n",
        "try:\n",
        "  print('Checking that the installation succeeded:')\n",
        "  import mujoco\n",
        "  mujoco.MjModel.from_xml_string('<mujoco/>')\n",
        "except Exception as e:\n",
        "  raise e from RuntimeError(\n",
        "      'Something went wrong during installation. Check the shell output above '\n",
        "      'for more information.\\n'\n",
        "      'If using a hosted Colab runtime, make sure you enable GPU acceleration '\n",
        "      'by going to the Runtime menu and selecting \"Choose runtime type\".')\n",
        "\n",
        "print('Installation successful.')\n",
        "\n",
        "# Other imports and helper functions\n",
        "import time\n",
        "import itertools\n",
        "import numpy as np\n",
        "\n",
        "# Graphics and plotting.\n",
        "print('Installing mediapy:')\n",
        "!command -v ffmpeg >/dev/null || (apt update && apt install -y ffmpeg)\n",
        "!pip install -q mediapy\n",
        "import mediapy as media\n",
        "import matplotlib.pyplot as plt\n",
        "\n",
        "# More legible printing from numpy.\n",
        "np.set_printoptions(precision=3, suppress=True, linewidth=100)\n",
        "\n",
        "from IPython.display import clear_output\n",
        "clear_output()\n"
      ]
    },
    {
      "cell_type": "code",
      "execution_count": null,
      "metadata": {},
      "outputs": [],
      "source": [
        "import google.colab\n",
        "%pip install roboticstoolbox-python>=1.0.2\n",
        "# %pip install colored==1.4.4\n",
        "\n",
        "import numpy as np\n",
        "import roboticstoolbox as rtb\n",
        "from spatialmath import *\n",
        "from math import pi\n",
        "import matplotlib.pyplot as plt\n",
        "from matplotlib import cm\n",
        "np.set_printoptions(linewidth=100, formatter={'float': lambda x: f\"{x:8.4g}\" if abs(x) > 1e-10 else f\"{0:8.4g}\"})\n",
        "\n",
        "%matplotlib notebook"
      ]
    },
    {
      "cell_type": "markdown",
      "metadata": {},
      "source": [
        "### Imports for Codespace"
      ]
    },
    {
      "cell_type": "code",
      "execution_count": 1,
      "metadata": {},
      "outputs": [],
      "source": [
        "# Other imports and helper functions\n",
        "import time\n",
        "import itertools\n",
        "import numpy as np\n",
        "\n",
        "# Graphics and plotting.\n",
        "import mediapy as media\n",
        "import matplotlib.pyplot as plt\n",
        "\n",
        "# More legible printing from numpy.\n",
        "np.set_printoptions(precision=3, suppress=True, linewidth=100)\n",
        "\n",
        "import os\n",
        "import mujoco\n",
        "import numpy as np\n",
        "import roboticstoolbox as rtb\n",
        "from spatialmath import *\n",
        "from math import pi\n",
        "import matplotlib.pyplot as plt\n",
        "from matplotlib import cm\n",
        "np.set_printoptions(linewidth=100, formatter={'float': lambda x: f\"{x:8.4g}\" if abs(x) > 1e-10 else f\"{0:8.4g}\"})\n",
        "\n",
        "# Ustaw zmienne środowiskowe dla renderowania offscreen\n",
        "# os.environ['MUJOCO_GL'] = 'osmesa'\n",
        "# or like below but with osmesa\n",
        "\n",
        "# Configure MuJoCo to use the osmesa rendering backend (doesn't requires GPU)\n",
        "print('Setting environment variable to use noGPU rendering:')\n",
        "%env MUJOCO_GL=osmesa\n",
        "\n",
        "# Check if installation was succesful.\n",
        "try:\n",
        "  print('Checking that the installation succeeded:')\n",
        "  import mujoco\n",
        "  mujoco.MjModel.from_xml_string('<mujoco/>')\n",
        "except Exception as e:\n",
        "  raise e from RuntimeError(\n",
        "      'Something went wrong during installation. Check the shell output above '\n",
        "      'for more information.')\n",
        "\n",
        "print('Installation successful.')\n",
        "\n",
        "from IPython.display import clear_output\n",
        "clear_output()\n",
        "\n"
      ]
    },
    {
      "cell_type": "markdown",
      "metadata": {},
      "source": [
        "Polecenie ```%matplotlib notebook``` w notebooku Jupyter ustawia tryb interaktywnego wyświetlania wykresów. Oznacza to, że wykresy będą wyświetlane bezpośrednio w notebooku i będą interaktywne, co pozwala na powiększanie, przesuwanie i inne interakcje z wykresami. Jeśli pracujesz w VS Code, możesz użyć ```%matplotlib widget```, który również zapewnia interaktywne wykresy, ale jest lepiej dostosowany do środowiska VS Code.  \n",
        "Gives me an error so need to\n",
        "```%pip install ipympl```\n",
        " and then \n",
        "```%matplotlib widget```"
      ]
    },
    {
      "cell_type": "markdown",
      "metadata": {
        "id": "sTF1DobnpdHD"
      },
      "source": [
        "### Define the robot"
      ]
    },
    {
      "cell_type": "code",
      "execution_count": 2,
      "metadata": {
        "id": "KZl-eUpZpdHE"
      },
      "outputs": [],
      "source": [
        "L1 = rtb.DHLink(d=0.0,   alpha=   0.0,   theta=0.0, a=0.0,)\n",
        "L2 = rtb.DHLink(d=0.0,   alpha= -pi/2,   theta=0.0, a=0.0)\n",
        "L3 = rtb.DHLink(d=0.42,  alpha=  pi/2,   theta=0.0, a=0.0)\n",
        "L4= rtb.DHLink( d=0.0,   alpha=  pi/2,   theta=0.0, a=0.0)\n",
        "L5= rtb.DHLink( d=0.4,   alpha= -pi/2,   theta=0.0, a=0.0)\n",
        "L6= rtb.DHLink( d=0.0,   alpha= -pi/2,   theta=0.0, a=0.0)\n",
        "L7= rtb.DHLink( d=0.0,   alpha=  pi/2,   theta=0.0, a=0.0)\n",
        "robot = rtb.DHRobot([L1, L2, L3, L4, L5, L6, L7])"
      ]
    },
    {
      "cell_type": "code",
      "execution_count": 4,
      "metadata": {
        "colab": {
          "base_uri": "https://localhost:8080/"
        },
        "id": "4JvPt-y_pdHE",
        "outputId": "28218115-e45c-41fe-bb2f-655b505def2e"
      },
      "outputs": [
        {
          "name": "stdout",
          "output_type": "stream",
          "text": [
            "  \u001b[38;5;1m 0.5444  \u001b[0m \u001b[38;5;1m 0.8245  \u001b[0m \u001b[38;5;1m-0.154   \u001b[0m \u001b[38;5;4m 0.0001177\u001b[0m  \u001b[0m\n",
            "  \u001b[38;5;1m-0.7355  \u001b[0m \u001b[38;5;1m 0.5575  \u001b[0m \u001b[38;5;1m 0.3849  \u001b[0m \u001b[38;5;4m 0.2663  \u001b[0m  \u001b[0m\n",
            "  \u001b[38;5;1m 0.4032  \u001b[0m \u001b[38;5;1m-0.09632 \u001b[0m \u001b[38;5;1m 0.91    \u001b[0m \u001b[38;5;4m-0.007111\u001b[0m  \u001b[0m\n",
            "  \u001b[38;5;244m 0       \u001b[0m \u001b[38;5;244m 0       \u001b[0m \u001b[38;5;244m 0       \u001b[0m \u001b[38;5;244m 1       \u001b[0m  \u001b[0m\n",
            "\n"
          ]
        },
        {
          "data": {
            "text/plain": [
              "IKSolution(q=array([  0.5963,   0.5728,    0.029,     0.66,  -0.2148,   -2.797,  -0.1988]), success=True, iterations=6, searches=1, residual=8.390374213167114e-07, reason='Success')"
            ]
          },
          "execution_count": 4,
          "metadata": {},
          "output_type": "execute_result"
        }
      ],
      "source": [
        "QPOS = [\n",
        "  -1.7     ,\n",
        "   0.53    ,\n",
        "  -0.029   ,\n",
        "  -0.66    ,\n",
        "   0.12    ,\n",
        "   0.86    ,\n",
        "  -0.31\n",
        "]\n",
        "T = robot.fkine(QPOS)\n",
        "print(T)\n",
        "sol = robot.ikine_LM(T)\n",
        "sol"
      ]
    },
    {
      "cell_type": "markdown",
      "metadata": {
        "id": "flp8Lygct9FE"
      },
      "source": [
        "Implement my robot for Google Colab"
      ]
    },
    {
      "cell_type": "code",
      "execution_count": null,
      "metadata": {
        "colab": {
          "base_uri": "https://localhost:8080/"
        },
        "id": "pE5nMEMtpdHE",
        "outputId": "08b50180-341e-4090-e2f2-a800e49b9505"
      },
      "outputs": [],
      "source": [
        "from google.colab import drive\n",
        "drive.mount('/content/drive')\n",
        "model = mujoco.MjModel.from_xml_path('/content/drive/MyDrive/Colab Notebooks/kuka/iiwa14.xml')\n",
        "data = mujoco.MjData(model)"
      ]
    },
    {
      "cell_type": "markdown",
      "metadata": {},
      "source": [
        "Implement my robot for Github Codespace"
      ]
    },
    {
      "cell_type": "code",
      "execution_count": 14,
      "metadata": {},
      "outputs": [
        {
          "ename": "ImportError",
          "evalue": "cannot import name 'load_gl' from 'glad' (/usr/local/python/3.12.1/lib/python3.12/site-packages/glad/__init__.py)",
          "output_type": "error",
          "traceback": [
            "\u001b[0;31m---------------------------------------------------------------------------\u001b[0m",
            "\u001b[0;31mImportError\u001b[0m                               Traceback (most recent call last)",
            "Cell \u001b[0;32mIn[14], line 7\u001b[0m\n\u001b[1;32m      5\u001b[0m \u001b[38;5;28;01mfrom\u001b[39;00m \u001b[38;5;21;01mOpenGL\u001b[39;00m \u001b[38;5;28;01mimport\u001b[39;00m GL\n\u001b[1;32m      6\u001b[0m \u001b[38;5;28;01mimport\u001b[39;00m \u001b[38;5;21;01mctypes\u001b[39;00m\n\u001b[0;32m----> 7\u001b[0m \u001b[38;5;28;01mfrom\u001b[39;00m \u001b[38;5;21;01mglad\u001b[39;00m \u001b[38;5;28;01mimport\u001b[39;00m load_gl\n\u001b[1;32m      9\u001b[0m \u001b[38;5;66;03m# Ustaw zmienne środowiskowe dla renderowania offscreen\u001b[39;00m\n\u001b[1;32m     10\u001b[0m os\u001b[38;5;241m.\u001b[39menviron[\u001b[38;5;124m'\u001b[39m\u001b[38;5;124mMUJOCO_GL\u001b[39m\u001b[38;5;124m'\u001b[39m] \u001b[38;5;241m=\u001b[39m \u001b[38;5;124m'\u001b[39m\u001b[38;5;124mosmesa\u001b[39m\u001b[38;5;124m'\u001b[39m\n",
            "\u001b[0;31mImportError\u001b[0m: cannot import name 'load_gl' from 'glad' (/usr/local/python/3.12.1/lib/python3.12/site-packages/glad/__init__.py)"
          ]
        }
      ],
      "source": [
        "import os\n",
        "import mujoco\n",
        "import numpy as np\n",
        "import mediapy as media\n",
        "from OpenGL import GL\n",
        "import ctypes\n",
        "from glad import load_gl\n",
        "\n",
        "# Ustaw zmienne środowiskowe dla renderowania offscreen\n",
        "os.environ['MUJOCO_GL'] = 'osmesa'\n",
        "\n",
        "# Załaduj model MuJoCo\n",
        "model = mujoco.MjModel.from_xml_path('kuka_iiwa_14_WORKING/iiwa14.xml')\n",
        "data = mujoco.MjData(model)\n",
        "\n",
        "# Utwórz kontekst OSMesa\n",
        "libosmesa = ctypes.CDLL('libOSMesa.so')\n",
        "OSMesaCreateContext = libosmesa.OSMesaCreateContext\n",
        "OSMesaCreateContext.restype = ctypes.c_void_p\n",
        "OSMesaCreateContext.argtypes = [ctypes.c_int, ctypes.c_void_p]\n",
        "\n",
        "OSMesaMakeCurrent = libosmesa.OSMesaMakeCurrent\n",
        "OSMesaMakeCurrent.restype = ctypes.c_int\n",
        "OSMesaMakeCurrent.argtypes = [ctypes.c_void_p, ctypes.c_void_p, ctypes.c_uint, ctypes.c_int, ctypes.c_int]\n",
        "\n",
        "OSMesaDestroyContext = libosmesa.OSMesaDestroyContext\n",
        "OSMesaDestroyContext.restype = None\n",
        "OSMesaDestroyContext.argtypes = [ctypes.c_void_p]\n",
        "\n",
        "ctx = OSMesaCreateContext(GL.GL_RGBA, None)\n",
        "buffer = np.zeros((800, 600, 4), dtype=np.uint8)\n",
        "OSMesaMakeCurrent(ctx, buffer.ctypes.data, GL.GL_UNSIGNED_BYTE, 800, 600)\n",
        "\n",
        "# Load OpenGL functions using glad\n",
        "if not load_gl():\n",
        "\traise RuntimeError(\"Failed to load OpenGL functions\")\n",
        "\n",
        "# Utwórz renderer\n",
        "renderer = mujoco.Renderer(model)\n",
        "\n",
        "# Przeprowadź symulację i renderowanie\n",
        "mujoco.mj_forward(model, data)\n",
        "renderer.update_scene(data)\n",
        "\n",
        "# Wyświetl obraz renderowany\n",
        "image = renderer.render()\n",
        "media.show_image(image)\n",
        "\n",
        "# Zniszcz kontekst OSMesa\n",
        "OSMesaDestroyContext(ctx)"
      ]
    },
    {
      "cell_type": "markdown",
      "metadata": {},
      "source": [
        "Playground:"
      ]
    },
    {
      "cell_type": "code",
      "execution_count": null,
      "metadata": {
        "colab": {
          "base_uri": "https://localhost:8080/",
          "height": 509
        },
        "id": "NBqCVneAuwL6",
        "outputId": "9a92d014-a336-4794-fa1d-f96f590a0133"
      },
      "outputs": [
        {
          "ename": "TypeError",
          "evalue": "'>' not supported between instances of 'str' and 'int'",
          "output_type": "error",
          "traceback": [
            "\u001b[0;31m---------------------------------------------------------------------------\u001b[0m",
            "\u001b[0;31mTypeError\u001b[0m                                 Traceback (most recent call last)",
            "Cell \u001b[0;32mIn[8], line 17\u001b[0m\n\u001b[1;32m      1\u001b[0m \u001b[38;5;124;03m'''\u001b[39;00m\n\u001b[1;32m      2\u001b[0m \u001b[38;5;124;03mxml = \"\"\"\u001b[39;00m\n\u001b[1;32m      3\u001b[0m \u001b[38;5;124;03m<mujoco>\u001b[39;00m\n\u001b[0;32m   (...)\u001b[0m\n\u001b[1;32m     10\u001b[0m \u001b[38;5;124;03m\"\"\"\u001b[39;00m\n\u001b[1;32m     11\u001b[0m \u001b[38;5;124;03m'''\u001b[39;00m\n\u001b[1;32m     12\u001b[0m \u001b[38;5;66;03m# model = mujoco.MjModel.from_xml_string(xml)\u001b[39;00m\n\u001b[1;32m     13\u001b[0m \u001b[38;5;66;03m# in content dir make maually kuka dir paste whats need to be there, then add dir assets and paste files there separately\u001b[39;00m\n\u001b[1;32m     14\u001b[0m \u001b[38;5;66;03m# model = mujoco.MjModel.from_xml_path('/content/kuka/iiwa14.xml')\u001b[39;00m\n\u001b[1;32m     15\u001b[0m \u001b[38;5;66;03m# or get it from the drive\u001b[39;00m\n\u001b[0;32m---> 17\u001b[0m renderer \u001b[38;5;241m=\u001b[39m \u001b[43mmujoco\u001b[49m\u001b[38;5;241;43m.\u001b[39;49m\u001b[43mRenderer\u001b[49m\u001b[43m(\u001b[49m\u001b[43mmodel\u001b[49m\u001b[43m,\u001b[49m\u001b[43m \u001b[49m\u001b[38;5;124;43m'\u001b[39;49m\u001b[38;5;124;43moffscreen\u001b[39;49m\u001b[38;5;124;43m'\u001b[39;49m\u001b[43m)\u001b[49m\n\u001b[1;32m     18\u001b[0m \u001b[38;5;124;03m'''\u001b[39;00m\n\u001b[1;32m     19\u001b[0m \u001b[38;5;124;03mviewer = mujoco_viewer.MujocoViewer(model, data, 'offscreen')\u001b[39;00m\n\u001b[1;32m     20\u001b[0m \u001b[38;5;124;03mmujoco.mj_forward(model, data)\u001b[39;00m\n\u001b[1;32m     21\u001b[0m \u001b[38;5;124;03mimg = viewer.read_pixels(camid=2)\u001b[39;00m\n\u001b[1;32m     22\u001b[0m \u001b[38;5;124;03m'''\u001b[39;00m\n\u001b[1;32m     24\u001b[0m mujoco\u001b[38;5;241m.\u001b[39mmj_forward(model, data)\n",
            "File \u001b[0;32m/usr/local/python/3.12.1/lib/python3.12/site-packages/mujoco/renderer.py:62\u001b[0m, in \u001b[0;36mRenderer.__init__\u001b[0;34m(self, model, height, width, max_geom)\u001b[0m\n\u001b[1;32m     53\u001b[0m     \u001b[38;5;28;01mif\u001b[39;00m width \u001b[38;5;241m>\u001b[39m buffer_width:\n\u001b[1;32m     54\u001b[0m       \u001b[38;5;28;01mraise\u001b[39;00m \u001b[38;5;167;01mValueError\u001b[39;00m(\u001b[38;5;124mf\u001b[39m\u001b[38;5;124m\"\"\"\u001b[39m\n\u001b[1;32m     55\u001b[0m \u001b[38;5;124mImage width \u001b[39m\u001b[38;5;132;01m{\u001b[39;00mwidth\u001b[38;5;132;01m}\u001b[39;00m\u001b[38;5;124m > framebuffer width \u001b[39m\u001b[38;5;132;01m{\u001b[39;00mbuffer_width\u001b[38;5;132;01m}\u001b[39;00m\u001b[38;5;124m. Either reduce the image\u001b[39m\n\u001b[1;32m     56\u001b[0m \u001b[38;5;124mwidth or specify a larger offscreen framebuffer in the model XML using the\u001b[39m\n\u001b[0;32m   (...)\u001b[0m\n\u001b[1;32m     59\u001b[0m \u001b[38;5;124m  <global offwidth=\u001b[39m\u001b[38;5;124m\"\u001b[39m\u001b[38;5;124mmy_width\u001b[39m\u001b[38;5;124m\"\u001b[39m\u001b[38;5;124m/>\u001b[39m\n\u001b[1;32m     60\u001b[0m \u001b[38;5;124m</visual>\u001b[39m\u001b[38;5;124m\"\"\"\u001b[39m\u001b[38;5;241m.\u001b[39mlstrip())\n\u001b[0;32m---> 62\u001b[0m     \u001b[38;5;28;01mif\u001b[39;00m \u001b[43mheight\u001b[49m\u001b[43m \u001b[49m\u001b[38;5;241;43m>\u001b[39;49m\u001b[43m \u001b[49m\u001b[43mbuffer_height\u001b[49m:\n\u001b[1;32m     63\u001b[0m       \u001b[38;5;28;01mraise\u001b[39;00m \u001b[38;5;167;01mValueError\u001b[39;00m(\u001b[38;5;124mf\u001b[39m\u001b[38;5;124m\"\"\"\u001b[39m\n\u001b[1;32m     64\u001b[0m \u001b[38;5;124mImage height \u001b[39m\u001b[38;5;132;01m{\u001b[39;00mheight\u001b[38;5;132;01m}\u001b[39;00m\u001b[38;5;124m > framebuffer height \u001b[39m\u001b[38;5;132;01m{\u001b[39;00mbuffer_height\u001b[38;5;132;01m}\u001b[39;00m\u001b[38;5;124m. Either reduce the\u001b[39m\n\u001b[1;32m     65\u001b[0m \u001b[38;5;124mimage height or specify a larger offscreen framebuffer in the model XML using\u001b[39m\n\u001b[0;32m   (...)\u001b[0m\n\u001b[1;32m     68\u001b[0m \u001b[38;5;124m  <global offheight=\u001b[39m\u001b[38;5;124m\"\u001b[39m\u001b[38;5;124mmy_height\u001b[39m\u001b[38;5;124m\"\u001b[39m\u001b[38;5;124m/>\u001b[39m\n\u001b[1;32m     69\u001b[0m \u001b[38;5;124m</visual>\u001b[39m\u001b[38;5;124m\"\"\"\u001b[39m\u001b[38;5;241m.\u001b[39mlstrip())\n\u001b[1;32m     71\u001b[0m     \u001b[38;5;28mself\u001b[39m\u001b[38;5;241m.\u001b[39m_width \u001b[38;5;241m=\u001b[39m width\n",
            "\u001b[0;31mTypeError\u001b[0m: '>' not supported between instances of 'str' and 'int'"
          ]
        }
      ],
      "source": [
        "'''\n",
        "xml = \"\"\"\n",
        "<mujoco>\n",
        "  <worldbody>\n",
        "    <light name=\"top\" pos=\"0 0 1\"/>\n",
        "    <geom name=\"red_box\" type=\"box\" size=\".2 .2 .2\" rgba=\"1 0 0 1\"/>\n",
        "    <geom name=\"green_sphere\" pos=\".2 .2 .2\" size=\".1\" rgba=\"0 1 0 1\"/>\n",
        "  </worldbody>\n",
        "</mujoco>\n",
        "\"\"\"\n",
        "'''\n",
        "# model = mujoco.MjModel.from_xml_string(xml)\n",
        "# in content dir make maually kuka dir paste whats need to be there, then add dir assets and paste files there separately\n",
        "# model = mujoco.MjModel.from_xml_path('/content/kuka/iiwa14.xml')\n",
        "# or get it from the drive\n",
        "\n",
        "renderer = mujoco.Renderer(model, 50, 50)\n",
        "'''\n",
        "viewer = mujoco_viewer.MujocoViewer(model, data, 'offscreen')\n",
        "mujoco.mj_forward(model, data)\n",
        "img = viewer.read_pixels(camid=2)\n",
        "'''\n",
        "\n",
        "mujoco.mj_forward(model, data)\n",
        "renderer.update_scene(data)\n",
        "media.show_image(renderer.render())\n",
        "\n",
        "'''\n",
        "# gemini forward kinematics\n",
        "# Set joint positions (adjust indices as needed)\n",
        "data.qpos[0] = 0.5\n",
        "data.qpos[1] = 1.0\n",
        "\n",
        "# Compute forward kinematics\n",
        "mujoco.mj_forward(model, data)\n",
        "\n",
        "# Access the position of a specific site (adjust index as needed)\n",
        "#site_pos = data.xpos[model.site_adr[0]]\n",
        "\n",
        "# Access the orientation of a specific body (adjust index as needed)\n",
        "#body_rot = data.xmat[model.body_adr[0]]\n",
        "\n",
        "renderer = mujoco.Renderer(model)\n",
        "mujoco.mj_forward(model, data)\n",
        "renderer.update_scene(data)\n",
        "\n",
        "media.show_image(renderer.render())\n",
        "\n",
        "# and on second picture robot is moved\n",
        "# so now let's make a video\n",
        "'''"
      ]
    },
    {
      "cell_type": "code",
      "execution_count": 5,
      "metadata": {},
      "outputs": [
        {
          "ename": "",
          "evalue": "",
          "output_type": "error",
          "traceback": [
            "\u001b[1;31mJądro Kernel uległo awarii podczas wykonywania kodu w bieżącej komórce lub w poprzedniej komórce. \n",
            "\u001b[1;31mPrzejrzyj kod w komórkach, aby zidentyfikować możliwą przyczynę awarii. \n",
            "\u001b[1;31mKliknij <a href='https://aka.ms/vscodeJupyterKernelCrash'>tutaj</a>, aby uzyskać więcej informacji. \n",
            "\u001b[1;31mAby uzyskać dalsze szczegóły, wyświetl <a href='command:jupyter.viewOutput'>dziennik</a> Jupyter."
          ]
        }
      ],
      "source": [
        "import mujoco_viewer\n",
        "\n",
        "# model = mujoco.MjModel.from_xml_path('humanoid.xml')\n",
        "model = mujoco.MjModel.from_xml_path('kuka_iiwa_14_WORKING/iiwa14.xml')\n",
        "data = mujoco.MjData(model)\n",
        "\n",
        "viewer = mujoco_viewer.MujocoViewer(model, data, 'offscreen')\n",
        "mujoco.mj_forward(model, data)\n",
        "img = viewer.read_pixels(camid=2)\n",
        "\n",
        "viewer = mujoco_viewer.MujocoViewer(model, data, 'offscreen')\n",
        "mujoco.mj_forward(model, data)\n",
        "img = viewer.read_pixels(camid=2)"
      ]
    }
  ],
  "metadata": {
    "accelerator": "GPU",
    "colab": {
      "gpuType": "T4",
      "include_colab_link": true,
      "provenance": []
    },
    "kernelspec": {
      "display_name": "Python 3",
      "name": "python3"
    },
    "language_info": {
      "codemirror_mode": {
        "name": "ipython",
        "version": 3
      },
      "file_extension": ".py",
      "mimetype": "text/x-python",
      "name": "python",
      "nbconvert_exporter": "python",
      "pygments_lexer": "ipython3",
      "version": "3.12.1"
    }
  },
  "nbformat": 4,
  "nbformat_minor": 0
}
