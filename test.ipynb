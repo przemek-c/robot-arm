{
  "cells": [
    {
      "cell_type": "markdown",
      "metadata": {
        "id": "view-in-github",
        "colab_type": "text"
      },
      "source": [
        "<a href=\"https://colab.research.google.com/github/przemek-c/robot-arm/blob/main/robot-arm.ipynb\" target=\"_parent\"><img src=\"https://colab.research.google.com/assets/colab-badge.svg\" alt=\"Open In Colab\"/></a>"
      ]
    },
    {
      "cell_type": "markdown",
      "metadata": {
        "id": "qqIKeaZupdG-"
      },
      "source": [
        "1. Draw objects in CAD, get vertices\n",
        "1. Stop worring about tools - it's best you have\n",
        "1. Define point as matrix T\n",
        "2. Calculate IK\n",
        "1. Check how it looks like\n",
        "1. Interpolate more points\n",
        "1. Other part of plan is to make env for work with"
      ]
    },
    {
      "cell_type": "code",
      "execution_count": null,
      "metadata": {
        "id": "vw2fgvkppdHA",
        "outputId": "f3149705-ec96-4c99-fa15-fe4ebde03478"
      },
      "outputs": [
        {
          "name": "stdout",
          "output_type": "stream",
          "text": [
            "Hello\n"
          ]
        }
      ],
      "source": [
        "print(\"Hello\")"
      ]
    },
    {
      "cell_type": "markdown",
      "metadata": {
        "id": "YvX1fdzzpdHB"
      },
      "source": [
        "### Imports\n",
        "But before run, first manually choose the GPU T4 workspace"
      ]
    },
    {
      "cell_type": "code",
      "execution_count": 1,
      "metadata": {
        "id": "EttcuCa8pdHC"
      },
      "outputs": [],
      "source": [
        "!pip install mujoco\n",
        "!pip install roboticstoolbox-python>=1.0.2\n",
        "!pip install mediapy\n",
        "\n",
        "# Other imports and helper functions\n",
        "import time\n",
        "import itertools\n",
        "import numpy as np\n",
        "\n",
        "# Graphics and plotting.\n",
        "print('Installing mediapy:')\n",
        "!command -v ffmpeg >/dev/null || (apt update && apt install -y ffmpeg)\n",
        "import mediapy as media\n",
        "import matplotlib.pyplot as plt\n",
        "\n",
        "# More legible printing from numpy.\n",
        "np.set_printoptions(precision=3, suppress=True, linewidth=100)\n",
        "\n",
        "from IPython.display import clear_output\n",
        "clear_output()\n"
      ]
    },
    {
      "cell_type": "markdown",
      "metadata": {
        "id": "sTF1DobnpdHD"
      },
      "source": [
        "### Define the robot"
      ]
    },
    {
      "cell_type": "markdown",
      "source": [
        "Imports for RTB"
      ],
      "metadata": {
        "id": "Ti174aM4uOUF"
      }
    },
    {
      "cell_type": "code",
      "source": [
        "import numpy as np\n",
        "import roboticstoolbox as rtb\n",
        "from spatialmath import *\n",
        "from math import pi\n",
        "import matplotlib.pyplot as plt\n",
        "from matplotlib import cm\n",
        "np.set_printoptions(linewidth=100, formatter={'float': lambda x: f\"{x:8.4g}\" if abs(x) > 1e-10 else f\"{0:8.4g}\"})\n",
        "\n",
        "%matplotlib notebook"
      ],
      "metadata": {
        "id": "L_pS5DByuTPT"
      },
      "execution_count": null,
      "outputs": []
    },
    {
      "cell_type": "code",
      "execution_count": null,
      "metadata": {
        "id": "KZl-eUpZpdHE"
      },
      "outputs": [],
      "source": [
        "L1 = rtb.DHLink(d=0.0,   alpha=   0.0,   theta=0.0, a=0.0,)\n",
        "L2 = rtb.DHLink(d=0.0,   alpha= -pi/2,   theta=0.0, a=0.0)\n",
        "L3 = rtb.DHLink(d=0.42,  alpha=  pi/2,   theta=0.0, a=0.0)\n",
        "L4= rtb.DHLink( d=0.0,   alpha=  pi/2,   theta=0.0, a=0.0)\n",
        "L5= rtb.DHLink( d=0.4,   alpha= -pi/2,   theta=0.0, a=0.0)\n",
        "L6= rtb.DHLink( d=0.0,   alpha= -pi/2,   theta=0.0, a=0.0)\n",
        "L7= rtb.DHLink( d=0.0,   alpha=  pi/2,   theta=0.0, a=0.0)\n",
        "robot = rtb.DHRobot([L1, L2, L3, L4, L5, L6, L7])"
      ]
    },
    {
      "cell_type": "code",
      "execution_count": null,
      "metadata": {
        "id": "4JvPt-y_pdHE",
        "outputId": "28218115-e45c-41fe-bb2f-655b505def2e",
        "colab": {
          "base_uri": "https://localhost:8080/"
        }
      },
      "outputs": [
        {
          "output_type": "stream",
          "name": "stdout",
          "text": [
            "   0.5444    0.8245   -0.154     0.0001177  \n",
            "  -0.7355    0.5575    0.3849    0.2663    \n",
            "   0.4032   -0.09632   0.91     -0.007111  \n",
            "   0         0         0         1         \n",
            "\n"
          ]
        },
        {
          "output_type": "execute_result",
          "data": {
            "text/plain": [
              "IKSolution(q=array([    -1.8,   0.6304,   -0.029,    -0.66,     0.12,     0.86,    -0.31]), success=True, iterations=9, searches=1, residual=7.577634390789281e-07, reason='Success')"
            ]
          },
          "metadata": {},
          "execution_count": 7
        }
      ],
      "source": [
        "QPOS = [\n",
        "  -1.7     ,\n",
        "   0.53    ,\n",
        "  -0.029   ,\n",
        "  -0.66    ,\n",
        "   0.12    ,\n",
        "   0.86    ,\n",
        "  -0.31\n",
        "]\n",
        "T = robot.fkine(QPOS)\n",
        "print(T)\n",
        "sol = robot.ikine_LM(T)\n",
        "sol"
      ]
    },
    {
      "cell_type": "markdown",
      "source": [
        "Implement my robot"
      ],
      "metadata": {
        "id": "flp8Lygct9FE"
      }
    },
    {
      "cell_type": "code",
      "execution_count": 2,
      "metadata": {
        "id": "pE5nMEMtpdHE",
        "outputId": "08b50180-341e-4090-e2f2-a800e49b9505",
        "colab": {
          "base_uri": "https://localhost:8080/"
        }
      },
      "outputs": [
        {
          "output_type": "stream",
          "name": "stdout",
          "text": [
            "Mounted at /content/drive\n"
          ]
        }
      ],
      "source": [
        "from google.colab import drive\n",
        "drive.mount('/content/drive')"
      ]
    },
    {
      "cell_type": "code",
      "source": [
        "'''\n",
        "xml = \"\"\"\n",
        "<mujoco>\n",
        "  <worldbody>\n",
        "    <light name=\"top\" pos=\"0 0 1\"/>\n",
        "    <geom name=\"red_box\" type=\"box\" size=\".2 .2 .2\" rgba=\"1 0 0 1\"/>\n",
        "    <geom name=\"green_sphere\" pos=\".2 .2 .2\" size=\".1\" rgba=\"0 1 0 1\"/>\n",
        "  </worldbody>\n",
        "</mujoco>\n",
        "\"\"\"\n",
        "'''\n",
        "# model = mujoco.MjModel.from_xml_string(xml)\n",
        "# in content dir make maually kuka dir paste whats need to be there, then add dir assets and paste files there separately\n",
        "# model = mujoco.MjModel.from_xml_path('/content/kuka/iiwa14.xml')\n",
        "# or get it from the drive\n",
        "model = mujoco.MjModel.from_xml_path('/content/drive/MyDrive/Colab Notebooks/kuka/iiwa14.xml')\n",
        "data = mujoco.MjData(model)\n",
        "\n",
        "\n",
        "renderer = mujoco.Renderer(model)\n",
        "mujoco.mj_forward(model, data)\n",
        "renderer.update_scene(data)\n",
        "\n",
        "media.show_image(renderer.render())\n",
        "\n",
        "# gemini forward kinematics\n",
        "# Set joint positions (adjust indices as needed)\n",
        "data.qpos[0] = 0.5\n",
        "data.qpos[1] = 1.0\n",
        "\n",
        "# Compute forward kinematics\n",
        "mujoco.mj_forward(model, data)\n",
        "\n",
        "# Access the position of a specific site (adjust index as needed)\n",
        "#site_pos = data.xpos[model.site_adr[0]]\n",
        "\n",
        "# Access the orientation of a specific body (adjust index as needed)\n",
        "#body_rot = data.xmat[model.body_adr[0]]\n",
        "\n",
        "renderer = mujoco.Renderer(model)\n",
        "mujoco.mj_forward(model, data)\n",
        "renderer.update_scene(data)\n",
        "\n",
        "media.show_image(renderer.render())\n",
        "\n",
        "# and on second picture robot is moved\n",
        "# so now let's make a video"
      ],
      "metadata": {
        "id": "NBqCVneAuwL6",
        "outputId": "9a92d014-a336-4794-fa1d-f96f590a0133",
        "colab": {
          "base_uri": "https://localhost:8080/",
          "height": 509
        }
      },
      "execution_count": 3,
      "outputs": [
        {
          "output_type": "display_data",
          "data": {
            "text/plain": [
              "<IPython.core.display.HTML object>"
            ],
            "text/html": [
              "<table class=\"show_images\" style=\"border-spacing:0px;\"><tr><td style=\"padding:1px;\"><img width=\"320\" height=\"240\" style=\"image-rendering:auto; object-fit:cover;\" src=\"data:image/png;base64,iVBORw0KGgoAAAANSUhEUgAAAUAAAADwCAIAAAD+Tyo8AAAS7UlEQVR4nO3dWY8cxZoG4C9yr6ytN7exu20fizljcYHEBQgZaW75q/wCfgR3CBkhoyODlzbutbqWzKzcIubi6wrC1e3DaLpMTsS8z4VVXVVG0bJevshYiQAAAAAAAAAAAAAAAAAAAAAAAAAAAAAAAAAAAAAAAAAAAAAAAAAAAAAAAAAAAAAAAAAAAAAAAAAAAAAAAAAAAAAAAAAAAAAAAAAAAAAAAAAAAAAAAAAAAAAAAAAAAAAAAAAAAAAAAAAAAAAAAAAAAAAAAABuJrpuAHwsX3/9NRGdnZ0tl0siOjo66rpFsHkIsGvSNL1///7Tp0+3t7fjOP7jjz92dnYuLi6Ojo5+/fVXxNgxCLBTvvzyy6dPnwohXr169dNPP3322WeTyWQ4HI5Go3v37l1cXEwmk++//77rZsLGIMDu+Pbbb7e2tsIw3N3dPTk52d/f1x8dHx/fvXuXiObz+XK5/O6777prJmyS13UDYDN2d3cfPny4u7v78uXLt2/fBkFgfhoEwcXFxfPnz4uiGI1Gjx496qqdsFnBX38FbLC3t9e2ba/X297e/u2333Z2dqIoklLmeU5Ey+Xy6Ohob29vf38/y7LDw8OXL1923WTYAATYEbu7u8fHx57nffrppw8fPsyy7MWLF23bxnGcpunZ2dk333wTBEFRFO/evTs/P++6vbAZeAZ2QRiGjx49Go/HWZZ9/vnnBwcHg8HA930hhBBCSlnXdVEUz549e/HixXA4jKLoxx9/rKqq64bDbaECu0AIMRgMsiyrquqXX36Zz+dJknz11Vej0UgIMZ/Pnz9//vbt26qq6rpeLBY8w4QAOwABdoEQYjqdDofDL7744ueff37x4oVSiojSNBVCFEXx+++/Z1l2//79MAz39/ffvXvHXwDboQvtgsePH0spkyQJgsDzvKZpRqNR0zRCCCJSSqVpulgs2pWqqo6Pj7Ms67rhcFuYRnLBu3fvmqaRUnJdjaKoqiq1QkSLxUJ/2rZtXde+73fcaNgEdKFdEAQBj1R5nqeUCoKAay//yZRS/J26rtu2NT8Ce6ECuyAMQyKSUpZlKaVsmoZTynHt9Xr8omma8XjMdThJkq5bDRuACuyC4XDYtq3v+1yKiYiXcPR6PaVU27a6gz2ZTIQQvu+HYRiGYV3XXbcdbgUBtl6SJHEc82teQckZjuOYi+1kMiEiz/O4g+37Pr/PlbmzdsMmIMDWE0JEUeT7ftu2HGAhBBdeTjKt+tj6ffNNsBoCbL3d3d0wDLnz7Pu+7/ue55ExgqUnk6SU3J0WQrRt2+/3sabSdgiw9dI05adfLsVxHPOWhp2dncFg4HneYrE4Pz+/vLzM87wsy6qqpJS8eKvrtsNtIcB2C8OQS24QBFEUJUkyGAwGg0GSJJ7nHR0dbW9vn56ejkYj3/fjOF4sFlmWNU2jlPI8L47jsiy7/iXgfw/TSHbj3jIHOAzDJEn4yZaXW21vb3ueNx6PeRS6KIokSfiBmZ+H9egXWAoV2G78ZMtTRJxJfp/P5ej3+0KIPM+n02ld14PB4Pz8nLcomeu0wF6owHbzfZ+XbXCNJSJ+4XlelmXL5bIoiqIo2rblqPf7fV6PxX9LD1ODpVCB7cYdY+4VJ0nCK7G4xvK+BaVU0zRFUSwWi7Is+em3qiod7K5/A7gVBNhuXEiLogiCgCsqV2B+fz6f84b+0qCU4r9SVVXTNF3/BnArCLDdeF43z/PhcFiWZRAETdM0TVNVFVdj/Q5/k19whvnHrn8DuBUE2Hp5nusnW17LwRW4LEvP87gC8ztcnPUJO5hAcgACbL2yLOM45lXNPC2sx5l5069eQanXV3KY+coVsBoC7ILlcllVFRdbHWAhBPeQ9T5+nm3iYa2yLDGC5QAE2AVVVVVVFQQB55N7zroOE5Ge9eUudFmWRVF03WrYAATYEXr3L0/t8gYGXqelDFyEsYvQGQiwI{
  "cells": [
    {
      "cell_type": "markdown",
      "metadata": {
        "id": "view-in-github",
        "colab_type": "text"
      },
      "source": [
        "<a href=\"https://colab.research.google.com/github/przemek-c/robot-arm/blob/main/robot-arm.ipynb\" target=\"_parent\"><img src=\"https://colab.research.google.com/assets/colab-badge.svg\" alt=\"Open In Colab\"/></a>"
      ]
    },
    {
      "cell_type": "markdown",
      "metadata": {
        "id": "qqIKeaZupdG-"
      },
      "source": [
        "1. Draw objects in CAD, get vertices\n",
        "1. Stop worring about tools - it's best you have\n",
        "1. Define point as matrix T\n",
        "2. Calculate IK\n",
        "1. Check how it looks like\n",
        "1. Interpolate more points\n",
        "1. Other part of plan is to make env for work with"
      ]
    },
    {
      "cell_type": "code",
      "execution_count": null,
      "metadata": {
        "id": "vw2fgvkppdHA",
        "outputId": "f3149705-ec96-4c99-fa15-fe4ebde03478"
      },
      "outputs": [
        {
          "name": "stdout",
          "output_type": "stream",
          "text": [
            "Hello\n"
          ]
        }
      ],
      "source": [
        "print(\"Hello\")"
      ]
    },
    {
      "cell_type": "markdown",
      "metadata": {
        "id": "YvX1fdzzpdHB"
      },
      "source": [
        "### Imports\n",
        "But before run, first manually choose the GPU T4 workspace"
      ]
    },
    {
      "cell_type": "code",
      "execution_count": 1,
      "metadata": {
        "id": "EttcuCa8pdHC"
      },
      "outputs": [],
      "source": [
        "!pip install mujoco\n",
        "!pip install roboticstoolbox-python>=1.0.2\n",
        "!pip install mediapy\n",
        "\n",
        "# Other imports and helper functions\n",
        "import time\n",
        "import itertools\n",
        "import numpy as np\n",
        "\n",
        "# Graphics and plotting.\n",
        "print('Installing mediapy:')\n",
        "!command -v ffmpeg >/dev/null || (apt update && apt install -y ffmpeg)\n",
        "import mediapy as media\n",
        "import matplotlib.pyplot as plt\n",
        "\n",
        "# More legible printing from numpy.\n",
        "np.set_printoptions(precision=3, suppress=True, linewidth=100)\n",
        "\n",
        "from IPython.display import clear_output\n",
        "clear_output()\n"
      ]
    },
    {
      "cell_type": "markdown",
      "metadata": {
        "id": "sTF1DobnpdHD"
      },
      "source": [
        "### Define the robot"
      ]
    },
    {
      "cell_type": "markdown",
      "source": [
        "Imports for RTB"
      ],
      "metadata": {
        "id": "Ti174aM4uOUF"
      }
    },
    {
      "cell_type": "code",
      "source": [
        "import numpy as np\n",
        "import roboticstoolbox as rtb\n",
        "from spatialmath import *\n",
        "from math import pi\n",
        "import matplotlib.pyplot as plt\n",
        "from matplotlib import cm\n",
        "np.set_printoptions(linewidth=100, formatter={'float': lambda x: f\"{x:8.4g}\" if abs(x) > 1e-10 else f\"{0:8.4g}\"})\n",
        "\n",
        "%matplotlib notebook"
      ],
      "metadata": {
        "id": "L_pS5DByuTPT"
      },
      "execution_count": null,
      "outputs": []
    },
    {
      "cell_type": "code",
      "execution_count": null,
      "metadata": {
        "id": "KZl-eUpZpdHE"
      },
      "outputs": [],
      "source": [
        "L1 = rtb.DHLink(d=0.0,   alpha=   0.0,   theta=0.0, a=0.0,)\n",
        "L2 = rtb.DHLink(d=0.0,   alpha= -pi/2,   theta=0.0, a=0.0)\n",
        "L3 = rtb.DHLink(d=0.42,  alpha=  pi/2,   theta=0.0, a=0.0)\n",
        "L4= rtb.DHLink( d=0.0,   alpha=  pi/2,   theta=0.0, a=0.0)\n",
        "L5= rtb.DHLink( d=0.4,   alpha= -pi/2,   theta=0.0, a=0.0)\n",
        "L6= rtb.DHLink( d=0.0,   alpha= -pi/2,   theta=0.0, a=0.0)\n",
        "L7= rtb.DHLink( d=0.0,   alpha=  pi/2,   theta=0.0, a=0.0)\n",
        "robot = rtb.DHRobot([L1, L2, L3, L4, L5, L6, L7])"
      ]
    },
    {
      "cell_type": "code",
      "execution_count": null,
      "metadata": {
        "id": "4JvPt-y_pdHE",
        "outputId": "28218115-e45c-41fe-bb2f-655b505def2e",
        "colab": {
          "base_uri": "https://localhost:8080/"
        }
      },
      "outputs": [
        {
          "output_type": "stream",
          "name": "stdout",
          "text": [
            "   0.5444    0.8245   -0.154     0.0001177  \n",
            "  -0.7355    0.5575    0.3849    0.2663    \n",
            "   0.4032   -0.09632   0.91     -0.007111  \n",
            "   0         0         0         1         \n",
            "\n"
          ]
        },
        {
          "output_type": "execute_result",
          "data": {
            "text/plain": [
              "IKSolution(q=array([    -1.8,   0.6304,   -0.029,    -0.66,     0.12,     0.86,    -0.31]), success=True, iterations=9, searches=1, residual=7.577634390789281e-07, reason='Success')"
            ]
          },
          "metadata": {},
          "execution_count": 7
        }
      ],
      "source": [
        "QPOS = [\n",
        "  -1.7     ,\n",
        "   0.53    ,\n",
        "  -0.029   ,\n",
        "  -0.66    ,\n",
        "   0.12    ,\n",
        "   0.86    ,\n",
        "  -0.31\n",
        "]\n",
        "T = robot.fkine(QPOS)\n",
        "print(T)\n",
        "sol = robot.ikine_LM(T)\n",
        "sol"
      ]
    },
    {
      "cell_type": "markdown",
      "source": [
        "Implement my robot"
      ],
      "metadata": {
        "id": "flp8Lygct9FE"
      }
    },
    {
      "cell_type": "code",
      "execution_count": 2,
      "metadata": {
        "id": "pE5nMEMtpdHE",
        "outputId": "08b50180-341e-4090-e2f2-a800e49b9505",
        "colab": {
          "base_uri": "https://localhost:8080/"
        }
      },
      "outputs": [
        {
          "output_type": "stream",
          "name": "stdout",
          "text": [
            "Mounted at /content/drive\n"
          ]
        }
      ],
      "source": [
        "from google.colab import drive\n",
        "drive.mount('/content/drive')"
      ]
    },
    {
      "cell_type": "code",
      "source": [
        "'''\n",
        "xml = \"\"\"\n",
        "<mujoco>\n",
        "  <worldbody>\n",
        "    <light name=\"top\" pos=\"0 0 1\"/>\n",
        "    <geom name=\"red_box\" type=\"box\" size=\".2 .2 .2\" rgba=\"1 0 0 1\"/>\n",
        "    <geom name=\"green_sphere\" pos=\".2 .2 .2\" size=\".1\" rgba=\"0 1 0 1\"/>\n",
        "  </worldbody>\n",
        "</mujoco>\n",
        "\"\"\"\n",
        "'''\n",
        "# model = mujoco.MjModel.from_xml_string(xml)\n",
        "# in content dir make maually kuka dir paste whats need to be there, then add dir assets and paste files there separately\n",
        "# model = mujoco.MjModel.from_xml_path('/content/kuka/iiwa14.xml')\n",
        "# or get it from the drive\n",
        "model = mujoco.MjModel.from_xml_path('/content/drive/MyDrive/Colab Notebooks/kuka/iiwa14.xml')\n",
        "data = mujoco.MjData(model)\n",
        "\n",
        "\n",
        "renderer = mujoco.Renderer(model)\n",
        "mujoco.mj_forward(model, data)\n",
        "renderer.update_scene(data)\n",
        "\n",
        "media.show_image(renderer.render())\n",
        "\n",
        "# gemini forward kinematics\n",
        "# Set joint positions (adjust indices as needed)\n",
        "data.qpos[0] = 0.5\n",
        "data.qpos[1] = 1.0\n",
        "\n",
        "# Compute forward kinematics\n",
        "mujoco.mj_forward(model, data)\n",
        "\n",
        "# Access the position of a specific site (adjust index as needed)\n",
        "#site_pos = data.xpos[model.site_adr[0]]\n",
        "\n",
        "# Access the orientation of a specific body (adjust index as needed)\n",
        "#body_rot = data.xmat[model.body_adr[0]]\n",
        "\n",
        "renderer = mujoco.Renderer(model)\n",
        "mujoco.mj_forward(model, data)\n",
        "renderer.update_scene(data)\n",
        "\n",
        "media.show_image(renderer.render())\n",
        "\n",
        "# and on second picture robot is moved\n",
        "# so now let's make a video"
      ],
      "metadata": {
        "id": "NBqCVneAuwL6",
        "outputId": "9a92d014-a336-4794-fa1d-f96f590a0133",
        "colab": {
          "base_uri": "https://localhost:8080/",
          "height": 509
        }
      },
      "execution_count": 3,
      "outputs": [
        {
          "output_type": "display_data",
          "data": {
            "text/plain": [
              "<IPython.core.display.HTML object>"
            ],
            "text/html": [
              "<table class=\"show_images\" style=\"border-spacing:0px;\"><tr><td style=\"padding:1px;\"><img width=\"320\" height=\"240\" style=\"image-rendering:auto; object-fit:cover;\" src=\"data:image/png;base64,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